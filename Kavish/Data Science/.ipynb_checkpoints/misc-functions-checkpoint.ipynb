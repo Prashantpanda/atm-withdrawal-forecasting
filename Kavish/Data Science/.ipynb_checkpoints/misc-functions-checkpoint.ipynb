{
 "cells": [
  {
   "cell_type": "code",
   "execution_count": 7,
   "metadata": {},
   "outputs": [],
   "source": [
    "import shutil\n",
    "import os"
   ]
  },
  {
   "cell_type": "code",
   "execution_count": 1,
   "metadata": {},
   "outputs": [],
   "source": [
    "file = \"test.csv\"\n",
    "file2 = \"test2.csv\""
   ]
  },
  {
   "cell_type": "code",
   "execution_count": 2,
   "metadata": {},
   "outputs": [],
   "source": [
    "#\n",
    "# appends String parameter to the text file\n",
    "#\n",
    "def appendNewData(newData):\n",
    "    f= open(file,\"a+\")\n",
    "    if(checkNewLine()):\n",
    "        f.write(newData + '\\n')\n",
    "    else:\n",
    "        f.write('\\n' + newData + '\\n')\n",
    "    f.close()"
   ]
  },
  {
   "cell_type": "code",
   "execution_count": 3,
   "metadata": {},
   "outputs": [],
   "source": [
    "#\n",
    "# checks if the last character of the text file is a newline\n",
    "#\n",
    "def checkNewLine():\n",
    "    outcome = False\n",
    "    with open(file, 'rb+') as f:\n",
    "        f.seek(-1,2)\n",
    "        lastByte = f.read().decode(\"utf-8\")\n",
    "    if(lastByte == '\\n'):\n",
    "        outcome = True\n",
    "    return outcome"
   ]
  },
  {
   "cell_type": "code",
   "execution_count": 10,
   "metadata": {},
   "outputs": [],
   "source": [
    "#\n",
    "# removes previous latest version,\n",
    "# creates copy of the new latest file and renames it to latest.pkl\n",
    "#\n",
    "def handleNewVersion(latestfileName):\n",
    "    os.remove('latest.pkl')\n",
    "    newPath = shutil.copy(latestfileName, 'latest.pkl')"
   ]
  }
 ],
 "metadata": {
  "kernelspec": {
   "display_name": "Python 3",
   "language": "python",
   "name": "python3"
  },
  "language_info": {
   "codemirror_mode": {
    "name": "ipython",
    "version": 3
   },
   "file_extension": ".py",
   "mimetype": "text/x-python",
   "name": "python",
   "nbconvert_exporter": "python",
   "pygments_lexer": "ipython3",
   "version": "3.7.1"
  }
 },
 "nbformat": 4,
 "nbformat_minor": 2
}
