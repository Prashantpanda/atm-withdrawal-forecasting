{
 "cells": [
  {
   "cell_type": "markdown",
   "metadata": {},
   "source": [
    "## Imports"
   ]
  },
  {
   "cell_type": "code",
   "execution_count": 31,
   "metadata": {},
   "outputs": [],
   "source": [
    "import logging\n",
    "import os\n",
    "import shutil\n",
    "import pandas as pd\n",
    "import numpy as np\n",
    "import pickle\n",
    "import statsmodels.api as sm\n",
    "from datetime import datetime"
   ]
  },
  {
   "cell_type": "code",
   "execution_count": 32,
   "metadata": {},
   "outputs": [
    {
     "name": "stderr",
     "output_type": "stream",
     "text": [
      "INFO:root:test\n"
     ]
    }
   ],
   "source": [
    "logger = logging.getLogger()\n",
    "logger.setLevel(logging.INFO)\n",
    "logging.info(\"test\")"
   ]
  },
  {
   "cell_type": "markdown",
   "metadata": {},
   "source": [
    "## Variables"
   ]
  },
  {
   "cell_type": "code",
   "execution_count": 33,
   "metadata": {},
   "outputs": [],
   "source": [
    "file = \"data.csv\"\n",
    "latest_pkl = \"latest.pkl\""
   ]
  },
  {
   "cell_type": "markdown",
   "metadata": {},
   "source": [
    "## Data Load/Transform"
   ]
  },
  {
   "cell_type": "code",
   "execution_count": 34,
   "metadata": {},
   "outputs": [],
   "source": [
    "def etl(file):\n",
    "    df01 = pd.read_csv(file)\n",
    "    df01['Transaction Date'] = pd.to_datetime(df01['Transaction Date'], infer_datetime_format=True)\n",
    "    df01.rename(columns={'Transaction Date':'Transaction_Date'}, inplace=True)\n",
    "\n",
    "    data = df01.drop(['Transaction_Date'], axis=1)\n",
    "    data.index = df01.Transaction_Date\n",
    "\n",
    "    data01 = data[(data[\"ATM Name\"]==1)]\n",
    "    data01 = data01.sort_index()\n",
    "\n",
    "    train = data01.astype(np.float64)\n",
    "    logging.info(\"ETL completed.\")\n",
    "    return train"
   ]
  },
  {
   "cell_type": "markdown",
   "metadata": {},
   "source": [
    "## Train Model"
   ]
  },
  {
   "cell_type": "code",
   "execution_count": 35,
   "metadata": {},
   "outputs": [],
   "source": [
    "def VARMAX_Train_Model(train):\n",
    "    exog = train[['Weekday','Festival Religion','Working Day','Holiday Sequence']]\n",
    "    model= sm.tsa.VARMAX(train[['Total amount Withdrawn','Amount withdrawn XYZ Card']], order=(5,0), trend='c', exog=exog)\n",
    "    model_result = model.fit(maxiter=1000, disp=False)\n",
    "    logging.info(\"Model training completed.\")\n",
    "    return model_result"
   ]
  },
  {
   "cell_type": "markdown",
   "metadata": {},
   "source": [
    "## Export Model"
   ]
  },
  {
   "cell_type": "code",
   "execution_count": 36,
   "metadata": {},
   "outputs": [],
   "source": [
    "def exportModel(model_result):\n",
    "    import pickle \n",
    "    from datetime import datetime\n",
    "    \n",
    "    #latest time now\n",
    "    now = datetime.now()\n",
    "    timestamp = now.strftime(\"%m-%d-%Y-%H-%M-%S\")\n",
    "    \n",
    "    filename = 'ATM_VARMAX01_' + timestamp + '.pkl'\n",
    "    pickle.dump(model_result, open(filename, 'wb'))\n",
    "    logging.info(\"Model exported.\")\n",
    "    \n",
    "    return filename;\n",
    "\n",
    "def handleNewVersion(latestFileName):\n",
    "    try:\n",
    "        os.remove('latest.pkl')\n",
    "    except:\n",
    "        logging.info(\"Existing latest.pkl not found. Proceeding...\")\n",
    "    \n",
    "    newPath = shutil.copy(latestFileName, 'latest.pkl')\n",
    "    logging.info(\"Latest pkl file updated.\")\n",
    "    return 0;"
   ]
  },
  {
   "cell_type": "markdown",
   "metadata": {},
   "source": [
    "## Forecasting Function"
   ]
  },
  {
   "cell_type": "code",
   "execution_count": 37,
   "metadata": {},
   "outputs": [],
   "source": [
    "def forecast(Weekday,FestivalReligion,WorkingDay,HolidaySequence):\n",
    "    # Use the loaded pickled model to make predictions \n",
    "    pkl_file = open(latest_pkl, 'rb')\n",
    "    model_result = pickle.load(pkl_file) \n",
    "    params = []\n",
    "#     test01 = test[['Weekday','Festival Religion','Working Day','Holiday Sequence']]\n",
    "#     test01 = [[5.0,4.0,0.0,1.0]]\n",
    "    test01 = [[Weekday,FestivalReligion,WorkingDay,HolidaySequence]]\n",
    "    \n",
    "    exog = test01\n",
    "    pred = model_result.get_forecast(steps=1,exog=exog)\n",
    "    pred_m = pred.predicted_mean\n",
    "    logging.info(\"Prediction task completed.\")\n",
    "    return pred_m"
   ]
  },
  {
   "cell_type": "markdown",
   "metadata": {},
   "source": [
    "## Workflow"
   ]
  },
  {
   "cell_type": "code",
   "execution_count": 38,
   "metadata": {},
   "outputs": [
    {
     "name": "stderr",
     "output_type": "stream",
     "text": [
      "INFO:root:ETL completed.\n",
      "C:\\Users\\Kavish\\Anaconda3\\lib\\site-packages\\statsmodels\\tsa\\base\\tsa_model.py:225: ValueWarning: A date index has been provided, but it has no associated frequency information and so will be ignored when e.g. forecasting.\n",
      "  ' ignored when e.g. forecasting.', ValueWarning)\n",
      "INFO:root:Model training completed.\n",
      "INFO:root:Model exported.\n",
      "INFO:root:Existing latest.pkl not found. Proceeding...\n",
      "INFO:root:Latest pkl file updated.\n"
     ]
    },
    {
     "data": {
      "text/plain": [
       "0"
      ]
     },
     "execution_count": 38,
     "metadata": {},
     "output_type": "execute_result"
    }
   ],
   "source": [
    "processed_data = etl(file)\n",
    "model_output = VARMAX_Train_Model(processed_data)\n",
    "latestFileName = exportModel(model_output)\n",
    "handleNewVersion(latestFileName)"
   ]
  },
  {
   "cell_type": "code",
   "execution_count": 39,
   "metadata": {},
   "outputs": [
    {
     "name": "stderr",
     "output_type": "stream",
     "text": [
      "C:\\Users\\Kavish\\Anaconda3\\lib\\site-packages\\statsmodels\\tsa\\base\\tsa_model.py:531: ValueWarning: No supported index is available. Prediction results will be given with an integer index beginning at `start`.\n",
      "  ValueWarning)\n",
      "INFO:root:Prediction task completed.\n"
     ]
    },
    {
     "data": {
      "text/html": [
       "<div>\n",
       "<style scoped>\n",
       "    .dataframe tbody tr th:only-of-type {\n",
       "        vertical-align: middle;\n",
       "    }\n",
       "\n",
       "    .dataframe tbody tr th {\n",
       "        vertical-align: top;\n",
       "    }\n",
       "\n",
       "    .dataframe thead th {\n",
       "        text-align: right;\n",
       "    }\n",
       "</style>\n",
       "<table border=\"1\" class=\"dataframe\">\n",
       "  <thead>\n",
       "    <tr style=\"text-align: right;\">\n",
       "      <th></th>\n",
       "      <th>Total amount Withdrawn</th>\n",
       "      <th>Amount withdrawn XYZ Card</th>\n",
       "    </tr>\n",
       "  </thead>\n",
       "  <tbody>\n",
       "    <tr>\n",
       "      <th>2354</th>\n",
       "      <td>420290.063331</td>\n",
       "      <td>188136.377329</td>\n",
       "    </tr>\n",
       "  </tbody>\n",
       "</table>\n",
       "</div>"
      ],
      "text/plain": [
       "      Total amount Withdrawn  Amount withdrawn XYZ Card\n",
       "2354           420290.063331              188136.377329"
      ]
     },
     "execution_count": 39,
     "metadata": {},
     "output_type": "execute_result"
    }
   ],
   "source": [
    "forecast(5.0,4.0,0.0,1.0)"
   ]
  }
 ],
 "metadata": {
  "kernelspec": {
   "display_name": "Python 3",
   "language": "python",
   "name": "python3"
  },
  "language_info": {
   "codemirror_mode": {
    "name": "ipython",
    "version": 3
   },
   "file_extension": ".py",
   "mimetype": "text/x-python",
   "name": "python",
   "nbconvert_exporter": "python",
   "pygments_lexer": "ipython3",
   "version": "3.7.1"
  }
 },
 "nbformat": 4,
 "nbformat_minor": 2
}
