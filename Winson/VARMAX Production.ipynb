{
 "cells": [
  {
   "cell_type": "markdown",
   "metadata": {},
   "source": [
    "# Train Model"
   ]
  },
  {
   "cell_type": "code",
   "execution_count": null,
   "metadata": {},
   "outputs": [],
   "source": [
    "def VARMAX_Model(train):\n",
    "    exog = train[['Weekday','Festival Religion','Working Day','Holiday Sequence']]\n",
    "    model= sm.tsa.VARMAX(train[['Total amount Withdrawn','Amount withdrawn XYZ Card']], order=(5,0), trend='c', exog=exog)\n",
    "    model_result = model.fit(maxiter=1000, disp=False)\n",
    "    Persist_M(model_result)\n",
    "    #Building the model"
   ]
  },
  {
   "cell_type": "markdown",
   "metadata": {},
   "source": [
    "# Export Model"
   ]
  },
  {
   "cell_type": "code",
   "execution_count": null,
   "metadata": {},
   "outputs": [],
   "source": [
    "def Persist_M(model_result):\n",
    "    import pickle \n",
    "    from datetime import datetime\n",
    "    \n",
    "    #latest time now\n",
    "    dateTimeObj = datetime.now()\n",
    "    \n",
    "    timestamp = \"dateTimeObj\"\n",
    "    filename = 'ATM_VARMAX01_' + timestamp + '.pkl'\n",
    "    pickle.dump(model_result, open(filename, 'wb'))"
   ]
  },
  {
   "cell_type": "markdown",
   "metadata": {},
   "source": [
    "# Forecasting Function"
   ]
  },
  {
   "cell_type": "code",
   "execution_count": null,
   "metadata": {},
   "outputs": [],
   "source": [
    "def VARMAX_f(train):\n",
    "    import pickle \n",
    "  \n",
    "    # Use the loaded pickled model to make predictions \n",
    "    model_result = pickle.loads(\"latest.pkl\") \n",
    "    test01 = test[['Weekday','Festival Religion','Working Day','Holiday Sequence']]\n",
    "    exog = test01\n",
    "    pred = model_result.get_forecast(steps=1,exog=exog)\n",
    "    pred_m = pred.predicted_mean\n",
    "    return pred_m"
   ]
  }
 ],
 "metadata": {
  "kernelspec": {
   "display_name": "Python 3",
   "language": "python",
   "name": "python3"
  },
  "language_info": {
   "codemirror_mode": {
    "name": "ipython",
    "version": 3
   },
   "file_extension": ".py",
   "mimetype": "text/x-python",
   "name": "python",
   "nbconvert_exporter": "python",
   "pygments_lexer": "ipython3",
   "version": "3.7.4"
  }
 },
 "nbformat": 4,
 "nbformat_minor": 2
}
